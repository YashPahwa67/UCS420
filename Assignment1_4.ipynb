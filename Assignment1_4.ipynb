{
 "cells": [
  {
   "cell_type": "markdown",
   "id": "fbc0b199-bc93-46b9-8493-a0b78d6d6b58",
   "metadata": {},
   "source": [
    "Ques1. WAP to print the table of 7, 9."
   ]
  },
  {
   "cell_type": "code",
   "execution_count": 1,
   "id": "6ef5e167-8741-4e0c-9c3f-d82a0a2d30ec",
   "metadata": {},
   "outputs": [
    {
     "name": "stdout",
     "output_type": "stream",
     "text": [
      "7 x 0 = 0\n",
      "7 x 1 = 7\n",
      "7 x 2 = 14\n",
      "7 x 3 = 21\n",
      "7 x 4 = 28\n",
      "7 x 5 = 35\n",
      "7 x 6 = 42\n",
      "7 x 7 = 49\n",
      "7 x 8 = 56\n",
      "7 x 9 = 63\n",
      "7 x 10 = 70\n"
     ]
    }
   ],
   "source": [
    "for i in range(0,11):\n",
    "  product=7*i\n",
    "  print(\"7 x\",i,\"=\",product)"
   ]
  },
  {
   "cell_type": "code",
   "execution_count": 3,
   "id": "04aaf9a6-55ac-4902-9ef1-d36f02d793ee",
   "metadata": {},
   "outputs": [
    {
     "name": "stdout",
     "output_type": "stream",
     "text": [
      "9 x 0 = 0\n",
      "9 x 1 = 9\n",
      "9 x 2 = 18\n",
      "9 x 3 = 27\n",
      "9 x 4 = 36\n",
      "9 x 5 = 45\n",
      "9 x 6 = 54\n",
      "9 x 7 = 63\n",
      "9 x 8 = 72\n",
      "9 x 9 = 81\n",
      "9 x 10 = 90\n"
     ]
    }
   ],
   "source": [
    "for i in range(0,11):\n",
    "  product=9*i\n",
    "  print(\"9 x\",i,\"=\",product)"
   ]
  },
  {
   "cell_type": "markdown",
   "id": "b9e3fec6-9eae-4cd6-b80d-9a7af91d6fff",
   "metadata": {},
   "source": [
    "Ques2. WAP to print the table of n and n is given by user."
   ]
  },
  {
   "cell_type": "code",
   "execution_count": 4,
   "id": "b12f08b5-3a7a-4828-8c08-2705c084ff40",
   "metadata": {},
   "outputs": [
    {
     "name": "stdin",
     "output_type": "stream",
     "text": [
      "Enter the number you want table of:  11\n"
     ]
    },
    {
     "name": "stdout",
     "output_type": "stream",
     "text": [
      "11 x 0 = 0\n",
      "11 x 1 = 11\n",
      "11 x 2 = 22\n",
      "11 x 3 = 33\n",
      "11 x 4 = 44\n",
      "11 x 5 = 55\n",
      "11 x 6 = 66\n",
      "11 x 7 = 77\n",
      "11 x 8 = 88\n",
      "11 x 9 = 99\n",
      "11 x 10 = 110\n"
     ]
    }
   ],
   "source": [
    "a = input(\"Enter the number you want table of: \")\n",
    "for i in range(0,11):\n",
    "  product=int(a)*i\n",
    "  print(a,\"x\",i,\"=\",product)"
   ]
  },
  {
   "cell_type": "markdown",
   "id": "17850d96-35dc-4e0c-80de-542accff5475",
   "metadata": {},
   "source": [
    "Ques3. WAP to add all the numbers from 1 to n and n is given by user."
   ]
  },
  {
   "cell_type": "code",
   "execution_count": 5,
   "id": "fb38fda8-e4cd-43d3-8d5f-bdc02a29d12a",
   "metadata": {},
   "outputs": [
    {
     "name": "stdin",
     "output_type": "stream",
     "text": [
      "Enter a number:  10\n"
     ]
    },
    {
     "name": "stdout",
     "output_type": "stream",
     "text": [
      "Sum of numbers from 1 to 10 is: 55\n"
     ]
    }
   ],
   "source": [
    "n = int(input(\"Enter a number: \"))\n",
    "sum_of_numbers = 0\n",
    "for i in range(1, n + 1):\n",
    "  sum_of_numbers += i\n",
    "\n",
    "print(\"Sum of numbers from 1 to\", n, \"is:\", sum_of_numbers)"
   ]
  },
  {
   "cell_type": "code",
   "execution_count": null,
   "id": "2b09abe7-5d98-403a-b17b-d58e891b7bcf",
   "metadata": {},
   "outputs": [],
   "source": []
  }
 ],
 "metadata": {
  "kernelspec": {
   "display_name": "Python 3 (ipykernel)",
   "language": "python",
   "name": "python3"
  },
  "language_info": {
   "codemirror_mode": {
    "name": "ipython",
    "version": 3
   },
   "file_extension": ".py",
   "mimetype": "text/x-python",
   "name": "python",
   "nbconvert_exporter": "python",
   "pygments_lexer": "ipython3",
   "version": "3.12.7"
  }
 },
 "nbformat": 4,
 "nbformat_minor": 5
}
