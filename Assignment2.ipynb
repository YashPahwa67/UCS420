{
 "cells": [
  {
   "cell_type": "markdown",
   "id": "8b86ab20-16dd-498c-9bee-88c7f4f1fff9",
   "metadata": {},
   "source": [
    "Ques1. Create a List L that is defined as= [10, 20, 30, 40, 50, 60, 70, 80].\n",
    "i. WAP to add 200 and 300 to L.\n",
    "ii. WAP to remove 10 and 30 from L.\n",
    "iii. WAP to sort L in ascending order.\n",
    "iv. WAP to sort L in descending order."
   ]
  },
  {
   "cell_type": "code",
   "execution_count": 1,
   "id": "c96ee556-6110-480d-bacf-9aa908f80905",
   "metadata": {},
   "outputs": [
    {
     "name": "stdout",
     "output_type": "stream",
     "text": [
      "List after adding 200 and 300: [10, 20, 30, 40, 50, 60, 70, 80, 200, 300]\n",
      "List after removing 10 and 30: [20, 40, 50, 60, 70, 80, 200, 300]\n",
      "List sorted in ascending order: [20, 40, 50, 60, 70, 80, 200, 300]\n",
      "List sorted in descending order: [300, 200, 80, 70, 60, 50, 40, 20]\n"
     ]
    }
   ],
   "source": [
    "L = [10, 20, 30, 40, 50, 60, 70, 80]\n",
    "L.append(200)\n",
    "L.append(300)\n",
    "print(\"List after adding 200 and 300:\", L)\n",
    "L.remove(10)\n",
    "L.remove(30)\n",
    "print(\"List after removing 10 and 30:\", L)\n",
    "L.sort()\n",
    "print(\"List sorted in ascending order:\", L)\n",
    "L.reverse()\n",
    "print(\"List sorted in descending order:\", L)"
   ]
  },
  {
   "cell_type": "markdown",
   "id": "26c94a83-776d-4b84-b9e2-6375653d8abf",
   "metadata": {},
   "source": [
    "Ques2. Create a tuple of marks scored as scores = (45, 89.5, 76, 45.4, 89, 92, 58, 45) and perform the following operations using tuple functions:\n",
    "i. Identify the highest score and its index in the tuple.\n",
    "ii. Find the lowest score and count how many times it appears.\n",
    "iii. Reverse the tuple and return it as a list.\n",
    "iv. Check if a specific score ‘76’ (input by the user) is present in the tuple and print its first occurrence index, or a message saying it’s not present."
   ]
  },
  {
   "cell_type": "code",
   "execution_count": 2,
   "id": "fee2ab9d-b11c-434c-a656-7d50c7565b32",
   "metadata": {},
   "outputs": [
    {
     "name": "stdout",
     "output_type": "stream",
     "text": [
      "Highest score:  92  Index:  5\n",
      "Lowest score:  45 Count:  45\n",
      "Reversed tuple as a list:  [45, 58, 92, 89, 45.4, 76, 89.5, 45]\n",
      "Score  76  found at index:  2\n"
     ]
    }
   ],
   "source": [
    "scores = (45, 89.5, 76, 45.4, 89, 92, 58, 45)\n",
    "highest = max(scores)\n",
    "highest_index = scores.index(highest)\n",
    "print(\"Highest score: \",highest,\" Index: \",highest_index)\n",
    "lowest = min(scores)\n",
    "lowest_count = scores.count(lowest)\n",
    "print(\"Lowest score: \",lowest, \"Count: \",lowest)\n",
    "reversed_scores_list= list(reversed(scores))\n",
    "print(\"Reversed tuple as a list: \",reversed_scores_list)\n",
    "specific_score = 76\n",
    "if specific_score in scores:\n",
    "    first_occurrence = scores.index(specific_score)\n",
    "    print(\"Score \",specific_score,\" found at index: \",first_occurrence)\n",
    "else:\n",
    "    print(\"Score \",specific_score,\" not found in the tuple.\")"
   ]
  },
  {
   "cell_type": "markdown",
   "id": "1c51dd94-ae3b-4e7e-9918-bad893537975",
   "metadata": {},
   "source": [
    "Ques3. WAP to create a list of 100 random numbers between 100 and 900. Count and print the:\n",
    "i. All odd numbers\n",
    "ii. All even numbers\n",
    "iii. All prime numbers"
   ]
  },
  {
   "cell_type": "code",
   "execution_count": 3,
   "id": "b279896e-a37e-499a-9846-2140ab4c753e",
   "metadata": {},
   "outputs": [
    {
     "name": "stdout",
     "output_type": "stream",
     "text": [
      "[356, 236, 370, 441, 262, 797, 502, 680, 745, 879, 709, 705, 366, 692, 340, 220, 436, 260, 324, 540, 224, 444, 512, 117, 706, 313, 606, 834, 423, 332, 786, 778, 530, 559, 631, 240, 646, 235, 883, 862, 768, 122, 323, 385, 889, 429, 188, 344, 571, 791, 582, 888, 208, 495, 569, 400, 295, 538, 639, 120, 214, 680, 549, 216, 292, 769, 431, 253, 673, 772, 395, 788, 639, 293, 472, 483, 760, 205, 509, 337, 899, 380, 579, 165, 702, 833, 757, 112, 124, 390, 726, 653, 400, 694, 157, 569, 233, 615, 232, 496]\n",
      "[441, 797, 745, 879, 709, 705, 117, 313, 423, 559, 631, 235, 883, 323, 385, 889, 429, 571, 791, 495, 569, 295, 639, 549, 769, 431, 253, 673, 395, 639, 293, 483, 205, 509, 337, 899, 579, 165, 833, 757, 653, 157, 569, 233, 615] \n",
      " 45\n",
      "[356, 236, 370, 262, 502, 680, 366, 692, 340, 220, 436, 260, 324, 540, 224, 444, 512, 706, 606, 834, 332, 786, 778, 530, 240, 646, 862, 768, 122, 188, 344, 582, 888, 208, 400, 538, 120, 214, 680, 216, 292, 772, 788, 472, 760, 380, 702, 112, 124, 390, 726, 400, 694, 232, 496] \n",
      " 55\n",
      "[797, 709, 313, 631, 883, 571, 569, 769, 431, 673, 293, 509, 337, 757, 653, 157, 569, 233] \n",
      " 18\n"
     ]
    }
   ],
   "source": [
    "import random\n",
    "nums = [random.randint(100, 900) for _ in range(100)]\n",
    "print(nums)\n",
    "odds = [x for x in nums if x % 2 != 0]\n",
    "print(odds,\"\\n\",len(odds))\n",
    "evens = [x for x in nums if x % 2 == 0]\n",
    "print(evens,\"\\n\",len(evens))\n",
    "primes = [x for x in nums if all(x % i != 0 for i in range(2, int(x ** 0.5) + 1))]\n",
    "print(primes,\"\\n\",len(primes))"
   ]
  },
  {
   "cell_type": "markdown",
   "id": "5c4d6481-44f8-496a-b751-5191470071f7",
   "metadata": {},
   "source": [
    "Ques4. Consider the following two sets, A and B, represenƟng scores of two teams in mulƟple matches. A = {34, 56, 78, 90} and B = {78, 45, 90, 23}\n",
    "WAP to perform the following operations using set functions:\n",
    "i. Find the unique scores achieved by both teams (union of sets).\n",
    "ii. IdenƟfy the scores that are common to both teams (intersection of sets).\n",
    "iii. Find the scores that are exclusive to each team (symmetric difference).\n",
    "iv. Check if the scores of team A are a subset of team B, and if team B's scores are a superset of team A.\n",
    "v. Remove a specific score X (input by the user) from set A if it exists. If not, print a message saying it is not present."
   ]
  },
  {
   "cell_type": "code",
   "execution_count": 4,
   "id": "1cdcb446-eb44-41d4-a3a8-76c77dd0df2c",
   "metadata": {},
   "outputs": [
    {
     "name": "stdout",
     "output_type": "stream",
     "text": [
      " Union: {34, 45, 78, 23, 56, 90}\n",
      "Intersection: {90, 78}\n",
      "Symmetric Difference: {34, 45, 23, 56}\n",
      "Is A a subset of B? False\n",
      "Is B a superset of A? False\n"
     ]
    },
    {
     "name": "stdin",
     "output_type": "stream",
     "text": [
      "Enter a score to remove from set A:  56\n"
     ]
    },
    {
     "name": "stdout",
     "output_type": "stream",
     "text": [
      "Score  56  removed from set A. Updated set A:  {34, 90, 78}\n"
     ]
    }
   ],
   "source": [
    "A = {34, 56, 78, 90}\n",
    "B = {78, 45, 90, 23}\n",
    "\n",
    "union_scores = A | B\n",
    "print(\" Union:\", union_scores)\n",
    "\n",
    "intersection_scores = A & B\n",
    "print(\"Intersection:\", intersection_scores)\n",
    "\n",
    "symmetric_difference_scores = A ^ B\n",
    "print(\"Symmetric Difference:\", symmetric_difference_scores)\n",
    "\n",
    "subset = A <= B\n",
    "superset = B >= A\n",
    "print(\"Is A a subset of B?\", subset)\n",
    "print(\"Is B a superset of A?\", superset)\n",
    "\n",
    "X = int(input(\"Enter a score to remove from set A: \"))\n",
    "if X in A:\n",
    "    A.remove(X)\n",
    "    print(\"Score \",X,\" removed from set A. Updated set A: \",A)\n",
    "else:\n",
    "    print(\"Score \",X,\" is not present in set A.\")"
   ]
  },
  {
   "cell_type": "markdown",
   "id": "ddb3dcd9-334a-400b-b79e-f59f3dde5fc8",
   "metadata": {},
   "source": [
    "Ques5. Write a program to rename a key city to a locaƟon in the following dictionary."
   ]
  },
  {
   "cell_type": "code",
   "execution_count": 5,
   "id": "7ff55225-a02d-411b-837e-e738e0258f8f",
   "metadata": {},
   "outputs": [
    {
     "name": "stdout",
     "output_type": "stream",
     "text": [
      "{'name': 'Kelly', 'age': 25, 'salary': 8000, 'location': 'New york'}\n"
     ]
    }
   ],
   "source": [
    "sample_dict = {\n",
    "    \"name\": \"Kelly\",\n",
    "    \"age\": 25,\n",
    "    \"salary\": 8000,\n",
    "    \"city\": \"New york\"\n",
    "}\n",
    "if \"city\" in sample_dict:\n",
    "    sample_dict[\"location\"] = sample_dict[\"city\"]\n",
    "    del sample_dict[\"city\"]\n",
    "print(sample_dict)"
   ]
  },
  {
   "cell_type": "code",
   "execution_count": null,
   "id": "ca015041-4181-4275-a8ea-8ab8c6392a74",
   "metadata": {},
   "outputs": [],
   "source": []
  }
 ],
 "metadata": {
  "kernelspec": {
   "display_name": "Python 3 (ipykernel)",
   "language": "python",
   "name": "python3"
  },
  "language_info": {
   "codemirror_mode": {
    "name": "ipython",
    "version": 3
   },
   "file_extension": ".py",
   "mimetype": "text/x-python",
   "name": "python",
   "nbconvert_exporter": "python",
   "pygments_lexer": "ipython3",
   "version": "3.12.7"
  }
 },
 "nbformat": 4,
 "nbformat_minor": 5
}
