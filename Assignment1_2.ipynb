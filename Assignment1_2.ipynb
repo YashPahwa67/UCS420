{
 "cells": [
  {
   "cell_type": "markdown",
   "id": "13ea5fa8-69d5-44d1-894a-409411cad680",
   "metadata": {},
   "source": [
    "Ques1. WAP to add three numbers and print the result."
   ]
  },
  {
   "cell_type": "code",
   "execution_count": 1,
   "id": "e6146e2f-6c36-44b7-b9b3-6e5c2df44035",
   "metadata": {},
   "outputs": [
    {
     "data": {
      "text/plain": [
       "60"
      ]
     },
     "execution_count": 1,
     "metadata": {},
     "output_type": "execute_result"
    }
   ],
   "source": [
    "a=10\n",
    "b=20\n",
    "c=30\n",
    "d=a+b+c\n",
    "d"
   ]
  },
  {
   "cell_type": "markdown",
   "id": "35287862-3d82-493c-b753-b87e64cf683d",
   "metadata": {},
   "source": [
    "Ques2. WAP to concatinate three strings and print the result."
   ]
  },
  {
   "cell_type": "code",
   "execution_count": 2,
   "id": "4c6f5d92-1654-4227-9176-eae5a517a042",
   "metadata": {},
   "outputs": [
    {
     "data": {
      "text/plain": [
       "'i do programming'"
      ]
     },
     "execution_count": 2,
     "metadata": {},
     "output_type": "execute_result"
    }
   ],
   "source": [
    "str1 = \"i \"\n",
    "str2 = \"do \"\n",
    "str3 = \"programming\"\n",
    "str1+str2+str3"
   ]
  },
  {
   "cell_type": "code",
   "execution_count": null,
   "id": "da4287c4-58d9-46ff-a5ca-6073689445c3",
   "metadata": {},
   "outputs": [],
   "source": []
  }
 ],
 "metadata": {
  "kernelspec": {
   "display_name": "Python 3 (ipykernel)",
   "language": "python",
   "name": "python3"
  },
  "language_info": {
   "codemirror_mode": {
    "name": "ipython",
    "version": 3
   },
   "file_extension": ".py",
   "mimetype": "text/x-python",
   "name": "python",
   "nbconvert_exporter": "python",
   "pygments_lexer": "ipython3",
   "version": "3.12.7"
  }
 },
 "nbformat": 4,
 "nbformat_minor": 5
}
