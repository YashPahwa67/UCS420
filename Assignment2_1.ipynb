{
  "nbformat": 4,
  "nbformat_minor": 0,
  "metadata": {
    "colab": {
      "provenance": []
    },
    "kernelspec": {
      "name": "python3",
      "display_name": "Python 3"
    },
    "language_info": {
      "name": "python"
    }
  },
  "cells": [
    {
      "cell_type": "code",
      "execution_count": 3,
      "metadata": {
        "colab": {
          "base_uri": "https://localhost:8080/"
        },
        "id": "3H85DZBxabxa",
        "outputId": "62064e5f-335b-4cf8-da7d-a912649c1188"
      },
      "outputs": [
        {
          "output_type": "stream",
          "name": "stdout",
          "text": [
            "List after adding 200 and 300: [10, 20, 30, 40, 50, 60, 70, 80, 200, 300]\n",
            "List after removing 10 and 30: [20, 40, 50, 60, 70, 80, 200, 300]\n",
            "List sorted in ascending order: [20, 40, 50, 60, 70, 80, 200, 300]\n",
            "List sorted in descending order: [300, 200, 80, 70, 60, 50, 40, 20]\n"
          ]
        }
      ],
      "source": [
        "L = [10, 20, 30, 40, 50, 60, 70, 80]\n",
        "L.append(200)\n",
        "L.append(300)\n",
        "print(\"List after adding 200 and 300:\", L)\n",
        "L.remove(10)\n",
        "L.remove(30)\n",
        "print(\"List after removing 10 and 30:\", L)\n",
        "L.sort()\n",
        "print(\"List sorted in ascending order:\", L)\n",
        "L.reverse()\n",
        "print(\"List sorted in descending order:\", L)"
      ]
    },
    {
      "cell_type": "code",
      "source": [
        "scores = (45, 89.5, 76, 45.4, 89, 92, 58, 45)\n",
        "highest = max(scores)\n",
        "highest_index = scores.index(highest)\n",
        "print(\"Highest score: \",highest,\" Index: \",highest_index)\n",
        "lowest = min(scores)\n",
        "lowest_count = scores.count(lowest)\n",
        "print(\"Lowest score: \",lowest, \"Count: \",lowest)\n",
        "reversed_scores_list= list(reversed(scores))\n",
        "print(\"Reversed tuple as a list: \",reversed_scores_list)\n",
        "specific_score = 76\n",
        "if specific_score in scores:\n",
        "    first_occurrence = scores.index(specific_score)\n",
        "    print(\"Score \",specific_score,\" found at index: \",first_occurrence)\n",
        "else:\n",
        "    print(\"Score \",specific_score,\" not found in the tuple.\")"
      ],
      "metadata": {
        "colab": {
          "base_uri": "https://localhost:8080/"
        },
        "id": "_q6GYT-McTzD",
        "outputId": "01973f24-869d-45b6-fa79-66432856d840"
      },
      "execution_count": 2,
      "outputs": [
        {
          "output_type": "stream",
          "name": "stdout",
          "text": [
            "Highest score:  92  Index:  5\n",
            "Lowest score:  45 Count:  45\n",
            "Reversed tuple as a list:  [45, 58, 92, 89, 45.4, 76, 89.5, 45]\n",
            "Score  76  found at index:  2\n"
          ]
        }
      ]
    },
    {
      "cell_type": "code",
      "source": [
        "import random\n",
        "nums = [random.randint(100, 900) for _ in range(100)]\n",
        "print(nums)\n",
        "odds = [x for x in nums if x % 2 != 0]\n",
        "print(odds,\"\\n\",len(odds))\n",
        "evens = [x for x in nums if x % 2 == 0]\n",
        "print(evens,\"\\n\",len(evens))\n",
        "primes = [x for x in nums if all(x % i != 0 for i in range(2, int(x ** 0.5) + 1))]\n",
        "print(primes,\"\\n\",len(primes))"
      ],
      "metadata": {
        "colab": {
          "base_uri": "https://localhost:8080/"
        },
        "id": "8OFe_Jfme__R",
        "outputId": "d1644e1c-0fca-4081-e9d2-92f2db5c933b"
      },
      "execution_count": 1,
      "outputs": [
        {
          "output_type": "stream",
          "name": "stdout",
          "text": [
            "[525, 821, 877, 840, 335, 375, 366, 212, 276, 819, 336, 771, 610, 156, 420, 715, 150, 592, 634, 413, 677, 718, 235, 476, 506, 424, 491, 325, 508, 192, 520, 276, 354, 441, 683, 410, 458, 137, 680, 618, 700, 100, 739, 456, 117, 112, 143, 491, 333, 149, 100, 821, 679, 404, 517, 102, 249, 891, 792, 781, 622, 769, 146, 278, 847, 632, 731, 323, 708, 823, 662, 711, 603, 848, 350, 496, 323, 298, 207, 772, 739, 785, 717, 564, 396, 232, 377, 655, 160, 459, 340, 394, 607, 570, 401, 400, 387, 246, 619, 561]\n",
            "[525, 821, 877, 335, 375, 819, 771, 715, 413, 677, 235, 491, 325, 441, 683, 137, 739, 117, 143, 491, 333, 149, 821, 679, 517, 249, 891, 781, 769, 847, 731, 323, 823, 711, 603, 323, 207, 739, 785, 717, 377, 655, 459, 607, 401, 387, 619, 561] \n",
            " 48\n",
            "[840, 366, 212, 276, 336, 610, 156, 420, 150, 592, 634, 718, 476, 506, 424, 508, 192, 520, 276, 354, 410, 458, 680, 618, 700, 100, 456, 112, 100, 404, 102, 792, 622, 146, 278, 632, 708, 662, 848, 350, 496, 298, 772, 564, 396, 232, 160, 340, 394, 570, 400, 246] \n",
            " 52\n",
            "[821, 877, 677, 491, 683, 137, 739, 491, 149, 821, 769, 823, 739, 607, 401, 619] \n",
            " 16\n"
          ]
        }
      ]
    },
    {
      "cell_type": "code",
      "source": [
        "A = {34, 56, 78, 90}\n",
        "B = {78, 45, 90, 23}\n",
        "\n",
        "union_scores = A | B\n",
        "print(\" Union:\", union_scores)\n",
        "\n",
        "intersection_scores = A & B\n",
        "print(\"Intersection:\", intersection_scores)\n",
        "\n",
        "symmetric_difference_scores = A ^ B\n",
        "print(\"Symmetric Difference:\", symmetric_difference_scores)\n",
        "\n",
        "subset = A <= B\n",
        "superset = B >= A\n",
        "print(\"Is A a subset of B?\", subset)\n",
        "print(\"Is B a superset of A?\", superset)\n",
        "\n",
        "X = int(input(\"Enter a score to remove from set A: \"))\n",
        "if X in A:\n",
        "    A.remove(X)\n",
        "    print(\"Score \",X,\" removed from set A. Updated set A: \",A)\n",
        "else:\n",
        "    print(\"Score \",X,\" is not present in set A.\")"
      ],
      "metadata": {
        "colab": {
          "base_uri": "https://localhost:8080/"
        },
        "id": "qabwEYp94enU",
        "outputId": "e47e52f4-22b9-4ea3-e409-f856d85b2f31"
      },
      "execution_count": 6,
      "outputs": [
        {
          "output_type": "stream",
          "name": "stdout",
          "text": [
            " Union: {34, 45, 78, 23, 56, 90}\n",
            "Intersection: {90, 78}\n",
            "Symmetric Difference: {34, 45, 23, 56}\n",
            "Is A a subset of B? False\n",
            "Is B a superset of A? False\n",
            "Enter a score to remove from set A: 56\n",
            "Score  56  removed from set A. Updated set A:  {34, 90, 78}\n"
          ]
        }
      ]
    },
    {
      "cell_type": "code",
      "source": [
        "sample_dict = {\n",
        "    \"name\": \"Kelly\",\n",
        "    \"age\": 25,\n",
        "    \"salary\": 8000,\n",
        "    \"city\": \"New york\"\n",
        "}\n",
        "if \"city\" in sample_dict:\n",
        "    sample_dict[\"location\"] = sample_dict[\"city\"]\n",
        "    del sample_dict[\"city\"]\n",
        "print(sample_dict)"
      ],
      "metadata": {
        "colab": {
          "base_uri": "https://localhost:8080/"
        },
        "id": "xxsL6zmY77QF",
        "outputId": "f6cb9efc-caec-4fe2-ebd2-b22ee8b5c389"
      },
      "execution_count": 9,
      "outputs": [
        {
          "output_type": "stream",
          "name": "stdout",
          "text": [
            "{'name': 'Kelly', 'age': 25, 'salary': 8000, 'location': 'New york'}\n"
          ]
        }
      ]
    }
  ]
}