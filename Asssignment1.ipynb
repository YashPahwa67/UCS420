{
  "nbformat": 4,
  "nbformat_minor": 0,
  "metadata": {
    "colab": {
      "provenance": []
    },
    "kernelspec": {
      "name": "python3",
      "display_name": "Python 3"
    },
    "language_info": {
      "name": "python"
    }
  },
  "cells": [
    {
      "cell_type": "code",
      "execution_count": 1,
      "metadata": {
        "colab": {
          "base_uri": "https://localhost:8080/"
        },
        "id": "7RynPs29UjOF",
        "outputId": "b8021469-32e5-4591-dafa-568ba126cf60"
      },
      "outputs": [
        {
          "output_type": "stream",
          "name": "stdout",
          "text": [
            "Yash Pahwa\n",
            "Yash Pahwa\n",
            "Yash Pahwa\n"
          ]
        }
      ],
      "source": [
        "for i in range(0,3):\n",
        "  print(\"Yash Pahwa\")"
      ]
    }
  ]
}