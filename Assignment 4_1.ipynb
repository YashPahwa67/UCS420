{
 "cells": [
  {
   "cell_type": "code",
   "execution_count": 2,
   "id": "d74c2976-a671-4ac8-be09-70a15dbabec6",
   "metadata": {},
   "outputs": [],
   "source": [
    "import numpy as n"
   ]
  },
  {
   "cell_type": "code",
   "execution_count": 3,
   "id": "525fd7d4-f01f-4e9f-9efc-3641b5e6b05a",
   "metadata": {},
   "outputs": [
    {
     "data": {
      "text/plain": [
       "array([3, 4, 5, 6, 7])"
      ]
     },
     "execution_count": 3,
     "metadata": {},
     "output_type": "execute_result"
    }
   ],
   "source": [
    "a = n.array([1,2,3,4,5])\n",
    "a += 2\n",
    "a"
   ]
  },
  {
   "cell_type": "code",
   "execution_count": 4,
   "id": "c8b7d807-5e4a-4a8d-805d-15188ae3b952",
   "metadata": {},
   "outputs": [
    {
     "data": {
      "text/plain": [
       "array([ 9, 12, 15, 18, 21])"
      ]
     },
     "execution_count": 4,
     "metadata": {},
     "output_type": "execute_result"
    }
   ],
   "source": [
    "a *= 3\n",
    "a"
   ]
  },
  {
   "cell_type": "code",
   "execution_count": 5,
   "id": "d474f595-8602-4d81-a744-5cb72a1d65e5",
   "metadata": {},
   "outputs": [
    {
     "data": {
      "text/plain": [
       "array([ 4,  6,  7,  9, 10])"
      ]
     },
     "execution_count": 5,
     "metadata": {},
     "output_type": "execute_result"
    }
   ],
   "source": [
    "a //= 2\n",
    "a"
   ]
  },
  {
   "cell_type": "code",
   "execution_count": 6,
   "id": "826602e0-c710-4738-8e7a-5e1fa8b4871b",
   "metadata": {},
   "outputs": [
    {
     "data": {
      "text/plain": [
       "array([5, 4, 6, 3, 2, 1])"
      ]
     },
     "execution_count": 6,
     "metadata": {},
     "output_type": "execute_result"
    }
   ],
   "source": [
    "arr = n.array([1,2,3,6,4,5])\n",
    "arr[::-1]"
   ]
  },
  {
   "cell_type": "code",
   "execution_count": 4,
   "id": "a0f792bd-7356-4780-b631-5fb23016c308",
   "metadata": {},
   "outputs": [
    {
     "name": "stdout",
     "output_type": "stream",
     "text": [
      "Mode of x:  1\n"
     ]
    }
   ],
   "source": [
    "x = n.array([1,2,3,4,5,1,2,1,1,1])\n",
    "print(\"Mode of x: \",n.bincount(x).argmax())"
   ]
  },
  {
   "cell_type": "code",
   "execution_count": 6,
   "id": "94065062-8bb9-4d18-a519-d7899f64aeaf",
   "metadata": {},
   "outputs": [
    {
     "name": "stdout",
     "output_type": "stream",
     "text": [
      "Maximum frequency of mode of array:  5\n"
     ]
    }
   ],
   "source": [
    "print(\"Maximum frequency of mode of array: \",n.bincount(x).max())"
   ]
  },
  {
   "cell_type": "code",
   "execution_count": 11,
   "id": "80104e4f-3183-4e8f-954c-b41fec8da81e",
   "metadata": {},
   "outputs": [
    {
     "name": "stdout",
     "output_type": "stream",
     "text": [
      "Mode of y: 1 3 \n",
      "Maximum frequency of mode of array:  3\n"
     ]
    }
   ],
   "source": [
    "y=n.array([1,1,1,2,3,4,2,4,3,3,])\n",
    "b=n.bincount(y)\n",
    "maximum=max(b)\n",
    "print(\"Mode of y: \",end=\"\")\n",
    "for i in range(len(b)):\n",
    "    if b[i]==maximum:\n",
    "        print(i,end=\" \")\n",
    "print()\n",
    "print(\"Maximum frequency of mode of array: \",n.bincount(y).max())"
   ]
  },
  {
   "cell_type": "code",
   "execution_count": 13,
   "id": "7f0d2131-2439-4623-ab92-2a8c4412284a",
   "metadata": {},
   "outputs": [
    {
     "name": "stdout",
     "output_type": "stream",
     "text": [
      "Element at first row second column:  20\n",
      "Element at third row first column:  70\n"
     ]
    }
   ],
   "source": [
    "arr=n.array([[10,20,30],[40,50,60],[70,80,90]])\n",
    "print(\"Element at first row second column: \",arr[0,1])\n",
    "print(\"Element at third row first column: \",arr[2,0])"
   ]
  },
  {
   "cell_type": "code",
   "execution_count": null,
   "id": "f05125e0-7d2d-4ebf-9932-a78df5a4e357",
   "metadata": {},
   "outputs": [
    {
     "name": "stdout",
     "output_type": "stream",
     "text": [
      "Original Array:  [ 10.    13.75  17.5   21.25  25.    28.75  32.5   36.25  40.    43.75\n",
      "  47.5   51.25  55.    58.75  62.5   66.25  70.    73.75  77.5   81.25\n",
      "  85.    88.75  92.5   96.25 100.  ]\n",
      "Dimension of array:  1\n",
      "Shape of array:  (25,)\n",
      "Total no. of elements of Array 25\n",
      "Datatype of array:  float64\n",
      "Size of array(Bytes):  200\n",
      "Transpose of array using reshape:  [[ 10.  ]\n",
      " [ 13.75]\n",
      " [ 17.5 ]\n",
      " [ 21.25]\n",
      " [ 25.  ]\n",
      " [ 28.75]\n",
      " [ 32.5 ]\n",
      " [ 36.25]\n",
      " [ 40.  ]\n",
      " [ 43.75]\n",
      " [ 47.5 ]\n",
      " [ 51.25]\n",
      " [ 55.  ]\n",
      " [ 58.75]\n",
      " [ 62.5 ]\n",
      " [ 66.25]\n",
      " [ 70.  ]\n",
      " [ 73.75]\n",
      " [ 77.5 ]\n",
      " [ 81.25]\n",
      " [ 85.  ]\n",
      " [ 88.75]\n",
      " [ 92.5 ]\n",
      " [ 96.25]\n",
      " [100.  ]]\n",
      "Transpose using attribute T:  [ 10.    13.75  17.5   21.25  25.    28.75  32.5   36.25  40.    43.75\n",
      "  47.5   51.25  55.    58.75  62.5   66.25  70.    73.75  77.5   81.25\n",
      "  85.    88.75  92.5   96.25 100.  ]\n"
     ]
    }
   ],
   "source": [
    "Yash = n.linspace(10,100,25)\n",
    "print(\"Original Array: \",Yash)\n",
    "print(\"Dimension of array: \",Yash.ndim)\n",
    "print(\"Shape of array: \",Yash.shape)\n",
    "print(\"Total no. of elements of Array\",Yash.size)\n",
    "print(\"Datatype of array: \",Yash.dtype)\n",
    "print(\"Size of array(Bytes): \",Yash.itemsize*Yash.size)\n",
    "print(\"Transpose of array using reshape: \",Yash.reshape(Yash.size,1))\n",
    "print(\"Transpose using attribute T: \",Yash.T)"
   ]
  },
  {
   "cell_type": "code",
   "execution_count": null,
   "id": "c1eab4f7-d834-44b6-8d3e-5a99688a80da",
   "metadata": {},
   "outputs": [
    {
     "name": "stdout",
     "output_type": "stream",
     "text": [
      "Original array:  [[10 20 30 40]\n",
      " [50 60 70 80]\n",
      " [90 15 20 35]]\n",
      "Mean of array:  43.333333333333336\n",
      "Median of array:  37.5\n",
      "Max of array:  90\n",
      "Min of array:  10\n",
      "Unique of elements of array:  [10 15 20 30 35 40 50 60 70 80 90]\n",
      "Reshaped array(4,3):  [[10 20 30]\n",
      " [40 50 60]\n",
      " [70 80 90]\n",
      " [15 20 35]]\n",
      "Resized array(2,3):  [[10 20 30]\n",
      " [40 50 60]]\n"
     ]
    }
   ],
   "source": [
    "UCS420_Yash = n.array([10,20,30,40,50,60,70,80,90,15,20,35]).reshape(3,4)\n",
    "print(\"Original array: \",UCS420_Yash)\n",
    "print(\"Mean of array: \",n.mean(UCS420_Yash))\n",
    "print(\"Median of array: \",n.median(UCS420_Yash))\n",
    "print(\"Max of array: \",n.max(UCS420_Yash))\n",
    "print(\"Min of array: \",n.min(UCS420_Yash))\n",
    "print(\"Unique of elements of array: \",n.unique(UCS420_Yash))\n",
    "Reshaped_UCS420_Yash=UCS420_Yash.reshape(4,3)\n",
    "print(\"Reshaped array(4,3): \",Reshaped_UCS420_Yash)\n",
    "Resized_UCS420_Yash=n.resize(UCS420_Yash,(2,3))\n",
    "print(\"Resized array(2,3): \",Resized_UCS420_Yash)"
   ]
  },
  {
   "cell_type": "code",
   "execution_count": null,
   "id": "43c404b1-b186-4c5d-8421-b5296b1f7dc9",
   "metadata": {},
   "outputs": [],
   "source": []
  }
 ],
 "metadata": {
  "kernelspec": {
   "display_name": "Python 3 (ipykernel)",
   "language": "python",
   "name": "python3"
  },
  "language_info": {
   "codemirror_mode": {
    "name": "ipython",
    "version": 3
   },
   "file_extension": ".py",
   "mimetype": "text/x-python",
   "name": "python",
   "nbconvert_exporter": "python",
   "pygments_lexer": "ipython3",
   "version": "3.12.4"
  }
 },
 "nbformat": 4,
 "nbformat_minor": 5
}
