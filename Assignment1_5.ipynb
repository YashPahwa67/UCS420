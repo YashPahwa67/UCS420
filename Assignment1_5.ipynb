{
 "cells": [
  {
   "cell_type": "markdown",
   "id": "15c05eff-13dd-42eb-ba2b-e921987e8372",
   "metadata": {},
   "source": [
    "Ques1. WAP to find max amoung three numbers and input from user. [Try max() function]"
   ]
  },
  {
   "cell_type": "code",
   "execution_count": 1,
   "id": "23cc5085-ef57-44dd-b7d8-6a8a60f53377",
   "metadata": {},
   "outputs": [
    {
     "name": "stdin",
     "output_type": "stream",
     "text": [
      "Enter first Number: 12\n",
      "Enter second Number: 34\n",
      "Enter third Number: 98\n"
     ]
    },
    {
     "data": {
      "text/plain": [
       "98"
      ]
     },
     "execution_count": 1,
     "metadata": {},
     "output_type": "execute_result"
    }
   ],
   "source": [
    "a = int(input(\"Enter first Number:\"))\n",
    "b = int(input(\"Enter second Number:\"))\n",
    "c = int(input(\"Enter third Number:\"))\n",
    "max(a,b,c)"
   ]
  },
  {
   "cell_type": "markdown",
   "id": "1c660763-2179-4fec-a3f3-84b601ca66c3",
   "metadata": {},
   "source": [
    "Ques2. WAP to add all numbers divisible by 7 and 9 from 1 to n and n is given by the user."
   ]
  },
  {
   "cell_type": "code",
   "execution_count": 3,
   "id": "958a117e-f9e0-4e73-8997-9eb5cd29616d",
   "metadata": {},
   "outputs": [
    {
     "name": "stdin",
     "output_type": "stream",
     "text": [
      "Enter a number:  40\n"
     ]
    },
    {
     "name": "stdout",
     "output_type": "stream",
     "text": [
      "The sum of numbers divisible by 7 from 1 to 40 is: 0\n"
     ]
    }
   ],
   "source": [
    "def sum_divisible_by_7(n):\n",
    "  total = 0\n",
    "  for i in range(1, n + 1):\n",
    "    if (i%7==0 and i%9==0):\n",
    "      total += i\n",
    "  return total\n",
    "\n",
    "n = int(input(\"Enter a number: \"))\n",
    "result = sum_divisible_by_7(n)\n",
    "print(f\"The sum of numbers divisible by 7 from 1 to {n} is: {result}\")"
   ]
  },
  {
   "cell_type": "markdown",
   "id": "e81817c2-9bb3-4be7-9f0c-93921a2eb05d",
   "metadata": {},
   "source": [
    "Ques3. WAP to add all prime numbers from 1 to n and n is given by the user."
   ]
  },
  {
   "cell_type": "code",
   "execution_count": 4,
   "id": "a103640a-9564-4faf-8c6d-98d3c2ce162b",
   "metadata": {},
   "outputs": [
    {
     "name": "stdin",
     "output_type": "stream",
     "text": [
      "Enter a number:  50\n"
     ]
    },
    {
     "name": "stdout",
     "output_type": "stream",
     "text": [
      "The sum of prime numbers from 1 to  50  is:  329\n"
     ]
    }
   ],
   "source": [
    "def sum_prime(n):\n",
    "  total = 0\n",
    "  for i in range(1,n):\n",
    "    for j in range(2,int(i/2)+1):\n",
    "      if(i%j==0):\n",
    "        break\n",
    "    else:\n",
    "      total += i\n",
    "  return total\n",
    "\n",
    "n = int(input(\"Enter a number: \"))\n",
    "result = sum_prime(n)\n",
    "print(f\"The sum of prime numbers from 1 to \" ,n,\" is: \",result)"
   ]
  },
  {
   "cell_type": "code",
   "execution_count": null,
   "id": "34f69278-9509-46fc-ad2b-ec145767eec0",
   "metadata": {},
   "outputs": [],
   "source": []
  }
 ],
 "metadata": {
  "kernelspec": {
   "display_name": "Python 3 (ipykernel)",
   "language": "python",
   "name": "python3"
  },
  "language_info": {
   "codemirror_mode": {
    "name": "ipython",
    "version": 3
   },
   "file_extension": ".py",
   "mimetype": "text/x-python",
   "name": "python",
   "nbconvert_exporter": "python",
   "pygments_lexer": "ipython3",
   "version": "3.12.7"
  }
 },
 "nbformat": 4,
 "nbformat_minor": 5
}
