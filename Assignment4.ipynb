{
 "cells": [
  {
   "cell_type": "code",
   "execution_count": 1,
   "id": "cf4b3b4d-d2c6-4dfa-aaf2-a9de77f47544",
   "metadata": {},
   "outputs": [],
   "source": [
    "import numpy as n"
   ]
  },
  {
   "cell_type": "markdown",
   "id": "1020bca1-6a1d-4ba8-b536-3169690e661e",
   "metadata": {},
   "source": [
    "Q.1 Write a program to create a NumPy 1D-array with 5 elements and perform basic operations like:\n",
    "a) Addition of 2 in all the element\n",
    "b) Multiply 3 with all the elements\n",
    "c) Divide every element by 2"
   ]
  },
  {
   "cell_type": "code",
   "execution_count": 2,
   "id": "71124922-dc7b-4da5-80f0-434324a879cd",
   "metadata": {},
   "outputs": [
    {
     "data": {
      "text/plain": [
       "array([3, 4, 5, 6, 7])"
      ]
     },
     "execution_count": 2,
     "metadata": {},
     "output_type": "execute_result"
    }
   ],
   "source": [
    "a = n.array([1,2,3,4,5])\n",
    "a += 2\n",
    "a"
   ]
  },
  {
   "cell_type": "code",
   "execution_count": 3,
   "id": "8f4cc03c-4577-45ce-b3d4-f261f28f396f",
   "metadata": {},
   "outputs": [
    {
     "data": {
      "text/plain": [
       "array([ 9, 12, 15, 18, 21])"
      ]
     },
     "execution_count": 3,
     "metadata": {},
     "output_type": "execute_result"
    }
   ],
   "source": [
    "a *= 3\n",
    "a"
   ]
  },
  {
   "cell_type": "code",
   "execution_count": 4,
   "id": "fa09081b-c9ce-4f6b-bff4-041a641165d4",
   "metadata": {},
   "outputs": [
    {
     "data": {
      "text/plain": [
       "array([ 4,  6,  7,  9, 10])"
      ]
     },
     "execution_count": 4,
     "metadata": {},
     "output_type": "execute_result"
    }
   ],
   "source": [
    "a //= 2\n",
    "a"
   ]
  },
  {
   "cell_type": "markdown",
   "id": "e81186df-99aa-48b5-b5f0-a1cb92d883c7",
   "metadata": {},
   "source": [
    "Q.2 Questions on Basic NumPy Array:\n",
    "a) Reverse the NumPy array: arr = np.array([1, 2, 3, 6, 4, 5])\n",
    "b) Find the most frequent value and their indice(s) in the following arrays:\n",
    "i. x = np.array([1,2,3,4,5,1,2,1,1,1])\n",
    "ii. y = np.array([1, 1, 1, 2, 3, 4, 2, 4, 3, 3, ])"
   ]
  },
  {
   "cell_type": "code",
   "execution_count": 5,
   "id": "6948a950-9a2e-4414-a32b-2e05baa36198",
   "metadata": {},
   "outputs": [
    {
     "data": {
      "text/plain": [
       "array([5, 4, 6, 3, 2, 1])"
      ]
     },
     "execution_count": 5,
     "metadata": {},
     "output_type": "execute_result"
    }
   ],
   "source": [
    "arr = n.array([1,2,3,6,4,5])\n",
    "arr[::-1]"
   ]
  },
  {
   "cell_type": "code",
   "execution_count": 6,
   "id": "a1bba895-0bfb-4783-8eef-3667d5d55fd0",
   "metadata": {},
   "outputs": [
    {
     "name": "stdout",
     "output_type": "stream",
     "text": [
      "Mode of x:  1\n"
     ]
    }
   ],
   "source": [
    "x = n.array([1,2,3,4,5,1,2,1,1,1])\n",
    "print(\"Mode of x: \",n.bincount(x).argmax())"
   ]
  },
  {
   "cell_type": "code",
   "execution_count": 7,
   "id": "ed620ecc-a860-40c5-8f0b-8ef61d164739",
   "metadata": {},
   "outputs": [
    {
     "name": "stdout",
     "output_type": "stream",
     "text": [
      "Maximum frequency of mode of array:  5\n"
     ]
    }
   ],
   "source": [
    "print(\"Maximum frequency of mode of array: \",n.bincount(x).max())"
   ]
  },
  {
   "cell_type": "code",
   "execution_count": 8,
   "id": "cfacdfdf-4ab2-4b2d-ae7e-f40720fc47de",
   "metadata": {},
   "outputs": [
    {
     "name": "stdout",
     "output_type": "stream",
     "text": [
      "Mode of y: 1 3 \n",
      "Maximum frequency of mode of array:  3\n"
     ]
    }
   ],
   "source": [
    "y=n.array([1,1,1,2,3,4,2,4,3,3,])\n",
    "b=n.bincount(y)\n",
    "maximum=max(b)\n",
    "print(\"Mode of y: \",end=\"\")\n",
    "for i in range(len(b)):\n",
    "    if b[i]==maximum:\n",
    "        print(i,end=\" \")\n",
    "print()\n",
    "print(\"Maximum frequency of mode of array: \",n.bincount(y).max())"
   ]
  },
  {
   "cell_type": "markdown",
   "id": "f7660716-f9d3-40fc-abbf-08243fb16010",
   "metadata": {},
   "source": [
    "Q.3 For the given 2-D array arr=np.array([10, 20, 30], [40, 50, 60], [70, 80, 90]), access elements using row and column indices as follows:\n",
    "a) Access 1st row, 2nd column\n",
    "b) Access 3rd row, 1st column"
   ]
  },
  {
   "cell_type": "code",
   "execution_count": 9,
   "id": "bb4672ad-3d54-41a8-a665-92b8e8b73a0b",
   "metadata": {},
   "outputs": [
    {
     "name": "stdout",
     "output_type": "stream",
     "text": [
      "Element at first row second column:  20\n",
      "Element at third row first column:  70\n"
     ]
    }
   ],
   "source": [
    "arr=n.array([[10,20,30],[40,50,60],[70,80,90]])\n",
    "print(\"Element at first row second column: \",arr[0,1])\n",
    "print(\"Element at third row first column: \",arr[2,0])"
   ]
  },
  {
   "cell_type": "markdown",
   "id": "5b8ebced-4cff-4b1a-8733-b9bc45603b1f",
   "metadata": {},
   "source": [
    "Q.4 Write program to create an 1-D NumPy array named <<Your Name>> with evenly spaced 25 numbers from 10 to 100 using linspace(). Print the dimensions of the array, shape, total elements, the data type of each element and total number of bytes consumed by the array. Find the transpose of this array using reshape() attribute. Can we do the same with T attribute?"
   ]
  },
  {
   "cell_type": "code",
   "execution_count": 10,
   "id": "baa5e6c0-0cd5-4c3d-9982-5025ac8c00b3",
   "metadata": {},
   "outputs": [
    {
     "name": "stdout",
     "output_type": "stream",
     "text": [
      "Original Array:  [ 10.    13.75  17.5   21.25  25.    28.75  32.5   36.25  40.    43.75\n",
      "  47.5   51.25  55.    58.75  62.5   66.25  70.    73.75  77.5   81.25\n",
      "  85.    88.75  92.5   96.25 100.  ]\n",
      "Dimension of array:  1\n",
      "Shape of array:  (25,)\n",
      "Total no. of elements of Array 25\n",
      "Datatype of array:  float64\n",
      "Size of array(Bytes):  200\n",
      "Transpose of array using reshape:  [[ 10.  ]\n",
      " [ 13.75]\n",
      " [ 17.5 ]\n",
      " [ 21.25]\n",
      " [ 25.  ]\n",
      " [ 28.75]\n",
      " [ 32.5 ]\n",
      " [ 36.25]\n",
      " [ 40.  ]\n",
      " [ 43.75]\n",
      " [ 47.5 ]\n",
      " [ 51.25]\n",
      " [ 55.  ]\n",
      " [ 58.75]\n",
      " [ 62.5 ]\n",
      " [ 66.25]\n",
      " [ 70.  ]\n",
      " [ 73.75]\n",
      " [ 77.5 ]\n",
      " [ 81.25]\n",
      " [ 85.  ]\n",
      " [ 88.75]\n",
      " [ 92.5 ]\n",
      " [ 96.25]\n",
      " [100.  ]]\n",
      "Transpose using attribute T:  [ 10.    13.75  17.5   21.25  25.    28.75  32.5   36.25  40.    43.75\n",
      "  47.5   51.25  55.    58.75  62.5   66.25  70.    73.75  77.5   81.25\n",
      "  85.    88.75  92.5   96.25 100.  ]\n"
     ]
    }
   ],
   "source": [
    "Yash = n.linspace(10,100,25)\n",
    "print(\"Original Array: \",Yash)\n",
    "print(\"Dimension of array: \",Yash.ndim)\n",
    "print(\"Shape of array: \",Yash.shape)\n",
    "print(\"Total no. of elements of Array\",Yash.size)\n",
    "print(\"Datatype of array: \",Yash.dtype)\n",
    "print(\"Size of array(Bytes): \",Yash.itemsize*Yash.size)\n",
    "print(\"Transpose of array using reshape: \",Yash.reshape(Yash.size,1))\n",
    "print(\"Transpose using attribute T: \",Yash.T)"
   ]
  },
  {
   "cell_type": "markdown",
   "id": "751d2e69-c1b3-4d4e-a457-2b6da464f878",
   "metadata": {},
   "source": [
    "Q5. Create a 2-D Array of three rows and four columns, named ucs420_<your_name>> with following values – 10, 20, 30, 40, 50, 60, 70, 80, 90, 15, 20, 35. Compute the mean, median, max, min, unique elements. Reshape the array to four rows and three columns and name it as reshaped_ ucs420_<your_name>>. Resize the array to two rows and three columns and name it as resized_ ucs420_<your_name>>."
   ]
  },
  {
   "cell_type": "code",
   "execution_count": 11,
   "id": "207e3cba-77a1-4221-8c02-4d9cfaa9116f",
   "metadata": {},
   "outputs": [
    {
     "name": "stdout",
     "output_type": "stream",
     "text": [
      "Original array:  [[10 20 30 40]\n",
      " [50 60 70 80]\n",
      " [90 15 20 35]]\n",
      "Mean of array:  43.333333333333336\n",
      "Median of array:  37.5\n",
      "Max of array:  90\n",
      "Min of array:  10\n",
      "Unique of elements of array:  [10 15 20 30 35 40 50 60 70 80 90]\n",
      "Reshaped array(4,3):  [[10 20 30]\n",
      " [40 50 60]\n",
      " [70 80 90]\n",
      " [15 20 35]]\n",
      "Resized array(2,3):  [[10 20 30]\n",
      " [40 50 60]]\n"
     ]
    }
   ],
   "source": [
    "UCS420_Yash = n.array([10,20,30,40,50,60,70,80,90,15,20,35]).reshape(3,4)\n",
    "print(\"Original array: \",UCS420_Yash)\n",
    "print(\"Mean of array: \",n.mean(UCS420_Yash))\n",
    "print(\"Median of array: \",n.median(UCS420_Yash))\n",
    "print(\"Max of array: \",n.max(UCS420_Yash))\n",
    "print(\"Min of array: \",n.min(UCS420_Yash))\n",
    "print(\"Unique of elements of array: \",n.unique(UCS420_Yash))\n",
    "Reshaped_UCS420_Yash=UCS420_Yash.reshape(4,3)\n",
    "print(\"Reshaped array(4,3): \",Reshaped_UCS420_Yash)\n",
    "Resized_UCS420_Yash=n.resize(UCS420_Yash,(2,3))\n",
    "print(\"Resized array(2,3): \",Resized_UCS420_Yash)"
   ]
  },
  {
   "cell_type": "code",
   "execution_count": null,
   "id": "3980c1bf-8bf6-4b7b-8fc9-31d37e1ecaee",
   "metadata": {},
   "outputs": [],
   "source": []
  }
 ],
 "metadata": {
  "kernelspec": {
   "display_name": "Python 3 (ipykernel)",
   "language": "python",
   "name": "python3"
  },
  "language_info": {
   "codemirror_mode": {
    "name": "ipython",
    "version": 3
   },
   "file_extension": ".py",
   "mimetype": "text/x-python",
   "name": "python",
   "nbconvert_exporter": "python",
   "pygments_lexer": "ipython3",
   "version": "3.12.7"
  }
 },
 "nbformat": 4,
 "nbformat_minor": 5
}
