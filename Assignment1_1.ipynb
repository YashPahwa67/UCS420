{
 "cells": [
  {
   "cell_type": "markdown",
   "id": "11330610-01c0-4212-ad89-09250216f318",
   "metadata": {},
   "source": [
    "Ques 1. WAP to print your name three times."
   ]
  },
  {
   "cell_type": "code",
   "execution_count": 1,
   "id": "5be0ed2f-5dc7-476e-b7bd-365ff29c478c",
   "metadata": {},
   "outputs": [
    {
     "name": "stdout",
     "output_type": "stream",
     "text": [
      "Yash Pahwa\n",
      "Yash Pahwa\n",
      "Yash Pahwa\n"
     ]
    }
   ],
   "source": [
    "for i in range(0,3):\n",
    "  print(\"Yash Pahwa\")"
   ]
  },
  {
   "cell_type": "code",
   "execution_count": null,
   "id": "5e71ed4b-575a-453a-9b8e-a601d92b2fa9",
   "metadata": {},
   "outputs": [],
   "source": []
  }
 ],
 "metadata": {
  "kernelspec": {
   "display_name": "Python 3 (ipykernel)",
   "language": "python",
   "name": "python3"
  },
  "language_info": {
   "codemirror_mode": {
    "name": "ipython",
    "version": 3
   },
   "file_extension": ".py",
   "mimetype": "text/x-python",
   "name": "python",
   "nbconvert_exporter": "python",
   "pygments_lexer": "ipython3",
   "version": "3.12.7"
  }
 },
 "nbformat": 4,
 "nbformat_minor": 5
}
