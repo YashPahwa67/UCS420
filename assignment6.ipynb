{
  "nbformat": 4,
  "nbformat_minor": 0,
  "metadata": {
    "colab": {
      "provenance": []
    },
    "kernelspec": {
      "name": "python3",
      "display_name": "Python 3"
    },
    "language_info": {
      "name": "python"
    }
  },
  "cells": [
    {
      "cell_type": "code",
      "execution_count": 1,
      "metadata": {
        "colab": {
          "base_uri": "https://localhost:8080/"
        },
        "id": "5p3EgVXDNKot",
        "outputId": "d23684fc-fde0-4581-8d57-6f3c75f81e9a"
      },
      "outputs": [
        {
          "output_type": "stream",
          "name": "stdout",
          "text": [
            "Enter a positive integer: 23\n",
            "The sum of odd numbers from 1 to 23 is: 144\n"
          ]
        }
      ],
      "source": [
        "def sum_odd_numbers(n):\n",
        "    total = 0\n",
        "    for i in range(1, n + 1, 2):\n",
        "        total += i\n",
        "    return total\n",
        "\n",
        "n = int(input(\"Enter a positive integer: \"))\n",
        "if n < 1:\n",
        "    print(\"Please enter a positive integer.\")\n",
        "else:\n",
        "    result = sum_odd_numbers(n)\n",
        "    print(f\"The sum of odd numbers from 1 to {n} is: {result}\")\n"
      ]
    },
    {
      "cell_type": "code",
      "source": [
        "def is_prime(num):\n",
        "    if num <= 1:\n",
        "        return False\n",
        "    for i in range(2, int(num**0.5) + 1):\n",
        "        if num % i == 0:\n",
        "            return False\n",
        "    return True\n",
        "\n",
        "def sum_prime_numbers(n):\n",
        "    total = 0\n",
        "    for i in range(2, n + 1):\n",
        "        if is_prime(i):\n",
        "            total += i\n",
        "    return total\n",
        "\n",
        "n = int(input(\"Enter a positive integer: \"))\n",
        "if n < 2:\n",
        "    print(\"Please enter an integer greater than or equal to 2.\")\n",
        "else:\n",
        "    result = sum_prime_numbers(n)\n",
        "    print(f\"The sum of prime numbers from 1 to {n} is: {result}\")\n"
      ],
      "metadata": {
        "colab": {
          "base_uri": "https://localhost:8080/"
        },
        "id": "xRRQBdTANb9C",
        "outputId": "538fd9d6-e693-46e7-a18c-d2eba8073e83"
      },
      "execution_count": 2,
      "outputs": [
        {
          "output_type": "stream",
          "name": "stdout",
          "text": [
            "Enter a positive integer: 12\n",
            "The sum of prime numbers from 1 to 12 is: 28\n"
          ]
        }
      ]
    }
  ]
}