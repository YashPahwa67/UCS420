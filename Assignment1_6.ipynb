{
 "cells": [
  {
   "cell_type": "markdown",
   "id": "2518c200-e989-4c20-8930-cc91f24b4d2d",
   "metadata": {},
   "source": [
    "Ques1. WAP using function that add all odd numbers from 1 to n, n is given by the user."
   ]
  },
  {
   "cell_type": "code",
   "execution_count": 1,
   "id": "935ac8f3-af27-4f4f-b041-38055cdceedc",
   "metadata": {},
   "outputs": [
    {
     "name": "stdin",
     "output_type": "stream",
     "text": [
      "Enter a positive integer:  23\n"
     ]
    },
    {
     "name": "stdout",
     "output_type": "stream",
     "text": [
      "The sum of odd numbers from 1 to 23 is: 144\n"
     ]
    }
   ],
   "source": [
    "def sum_odd_numbers(n):\n",
    "    total = 0\n",
    "    for i in range(1, n + 1, 2):\n",
    "        total += i\n",
    "    return total\n",
    "\n",
    "n = int(input(\"Enter a positive integer: \"))\n",
    "if n < 1:\n",
    "    print(\"Please enter a positive integer.\")\n",
    "else:\n",
    "    result = sum_odd_numbers(n)\n",
    "    print(f\"The sum of odd numbers from 1 to {n} is: {result}\")"
   ]
  },
  {
   "cell_type": "markdown",
   "id": "121ee55a-b3f5-469e-86e6-8041abe5ccb2",
   "metadata": {},
   "source": [
    "Ques2. WAP using function that add all prime numbers from 1 to n, n given by the user."
   ]
  },
  {
   "cell_type": "code",
   "execution_count": 2,
   "id": "ee772c65-4432-4085-906f-cd660f496459",
   "metadata": {},
   "outputs": [
    {
     "name": "stdin",
     "output_type": "stream",
     "text": [
      "Enter a positive integer:  12\n"
     ]
    },
    {
     "name": "stdout",
     "output_type": "stream",
     "text": [
      "The sum of prime numbers from 1 to 12 is: 28\n"
     ]
    }
   ],
   "source": [
    "def is_prime(num):\n",
    "    if num <= 1:\n",
    "        return False\n",
    "    for i in range(2, int(num**0.5) + 1):\n",
    "        if num % i == 0:\n",
    "            return False\n",
    "    return True\n",
    "\n",
    "def sum_prime_numbers(n):\n",
    "    total = 0\n",
    "    for i in range(2, n + 1):\n",
    "        if is_prime(i):\n",
    "            total += i\n",
    "    return total\n",
    "\n",
    "n = int(input(\"Enter a positive integer: \"))\n",
    "if n < 2:\n",
    "    print(\"Please enter an integer greater than or equal to 2.\")\n",
    "else:\n",
    "    result = sum_prime_numbers(n)\n",
    "    print(f\"The sum of prime numbers from 1 to {n} is: {result}\")"
   ]
  },
  {
   "cell_type": "code",
   "execution_count": null,
   "id": "b1e57703-3d28-4af6-9d65-919c48e89808",
   "metadata": {},
   "outputs": [],
   "source": []
  }
 ],
 "metadata": {
  "kernelspec": {
   "display_name": "Python 3 (ipykernel)",
   "language": "python",
   "name": "python3"
  },
  "language_info": {
   "codemirror_mode": {
    "name": "ipython",
    "version": 3
   },
   "file_extension": ".py",
   "mimetype": "text/x-python",
   "name": "python",
   "nbconvert_exporter": "python",
   "pygments_lexer": "ipython3",
   "version": "3.12.7"
  }
 },
 "nbformat": 4,
 "nbformat_minor": 5
}
