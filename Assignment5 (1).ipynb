{
  "nbformat": 4,
  "nbformat_minor": 0,
  "metadata": {
    "colab": {
      "provenance": []
    },
    "kernelspec": {
      "name": "python3",
      "display_name": "Python 3"
    },
    "language_info": {
      "name": "python"
    }
  },
  "cells": [
    {
      "cell_type": "code",
      "execution_count": 1,
      "metadata": {
        "colab": {
          "base_uri": "https://localhost:8080/"
        },
        "id": "i_ojAZ8hZfI3",
        "outputId": "ee8a7484-398b-4d99-cc89-5c4f395f2725"
      },
      "outputs": [
        {
          "name": "stdout",
          "output_type": "stream",
          "text": [
            "Enter first Number:3\n",
            "Enter second Number:5\n",
            "Enter third Number:9\n"
          ]
        },
        {
          "output_type": "execute_result",
          "data": {
            "text/plain": [
              "9"
            ]
          },
          "metadata": {},
          "execution_count": 1
        }
      ],
      "source": [
        "a = int(input(\"Enter first Number:\"))\n",
        "b = int(input(\"Enter second Number:\"))\n",
        "c = int(input(\"Enter third Number:\"))\n",
        "max(a,b,c)"
      ]
    },
    {
      "cell_type": "code",
      "source": [
        "def sum_divisible_by_7(n):\n",
        "  total = 0\n",
        "  for i in range(1, n + 1):\n",
        "    if (i%7==0 and i%9==0):\n",
        "      total += i\n",
        "  return total\n",
        "\n",
        "n = int(input(\"Enter a number: \"))\n",
        "result = sum_divisible_by_7(n)\n",
        "print(f\"The sum of numbers divisible by 7 from 1 to {n} is: {result}\")"
      ],
      "metadata": {
        "colab": {
          "base_uri": "https://localhost:8080/"
        },
        "id": "c3Clme7mbU59",
        "outputId": "c414c668-ea6a-470a-b96f-bc37fd5c18e4"
      },
      "execution_count": 3,
      "outputs": [
        {
          "output_type": "stream",
          "name": "stdout",
          "text": [
            "Enter a number: 70\n",
            "The sum of numbers divisible by 7 from 1 to 70 is: 63\n"
          ]
        }
      ]
    },
    {
      "cell_type": "code",
      "source": [
        "def sum_prime(n):\n",
        "  total = 0\n",
        "  for i in range(1,n):\n",
        "    for j in range(2,int(i/2)+1):\n",
        "      if(i%j==0):\n",
        "        break\n",
        "    else:\n",
        "      total += i\n",
        "  return total\n",
        "\n",
        "n = int(input(\"Enter a number: \"))\n",
        "result = sum_prime(n)\n",
        "print(f\"The sum of prime numbers from 1 to \" ,n,\" is: \",result)"
      ],
      "metadata": {
        "colab": {
          "base_uri": "https://localhost:8080/"
        },
        "id": "GD4fvemxcfOV",
        "outputId": "86152ffa-aa81-426f-a37d-16e0288d41cd"
      },
      "execution_count": 8,
      "outputs": [
        {
          "output_type": "stream",
          "name": "stdout",
          "text": [
            "Enter a number: 10\n",
            "The sum of prime numbers from 1 to  10  is:  18\n"
          ]
        }
      ]
    }
  ]
}